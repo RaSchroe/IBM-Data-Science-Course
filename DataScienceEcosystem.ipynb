{
 "cells": [
  {
   "cell_type": "markdown",
   "id": "a9cf5da2-ef8d-4b27-ac6d-6f8fbe9c31ae",
   "metadata": {},
   "source": [
    "# Data Science Tools and Ecosystem"
   ]
  },
  {
   "cell_type": "markdown",
   "id": "f151eb89-e62a-4092-bd32-4012e0476165",
   "metadata": {},
   "source": [
    "In this notebook, Data Science Tools and Ecosystem are summarized."
   ]
  },
  {
   "cell_type": "markdown",
   "id": "13d65403-b204-4f0b-b40c-7d540a030818",
   "metadata": {},
   "source": [
    "__Objectives:__\n",
    "- List popular languages for Data Science\n",
    "- List commonly used libraries used by Data Scientists\n",
    "- List Data Science Development Environments\n",
    "- Do some simple arithmetic in Python"
   ]
  },
  {
   "cell_type": "markdown",
   "id": "fb5ccb9d-42a2-411f-94b7-392908c99c91",
   "metadata": {},
   "source": [
    "Some of the popular languages that Data Scientists use are:\n",
    "\n",
    "1. Python\n",
    "2. R\n",
    "3. SQL\n",
    "4. julia"
   ]
  },
  {
   "cell_type": "markdown",
   "id": "58f27873-51b1-4eec-b3b3-5d787cec98ed",
   "metadata": {},
   "source": [
    "Some of the commonly used libraries used by Data Scientists include:\n",
    "1. Pandas\n",
    "2. Matplotlib\n",
    "3. TensorFlow\n",
    "4. ggplot2\n",
    "5. caret"
   ]
  },
  {
   "cell_type": "markdown",
   "id": "fa0edc95-c1a6-4c5e-829a-e0f4e5d39c12",
   "metadata": {},
   "source": [
    "|Data Science Tools|\n",
    "|-----|\n",
    "|JupyterLab|\n",
    "|RStudio|\n",
    "|Spyder|\n",
    "|Pycharm|"
   ]
  },
  {
   "cell_type": "markdown",
   "id": "dfcd78fd-7820-4543-b69e-3f3dac440a2d",
   "metadata": {},
   "source": [
    "### Below are a few examples of evaluating arithmetic expressions in Python:"
   ]
  },
  {
   "cell_type": "code",
   "execution_count": 2,
   "id": "7b5be849-7665-4225-9fa6-11a5157bbbb7",
   "metadata": {},
   "outputs": [
    {
     "data": {
      "text/plain": [
       "17"
      ]
     },
     "execution_count": 2,
     "metadata": {},
     "output_type": "execute_result"
    }
   ],
   "source": [
    "# This is a simple arithmetic expression to multiply then add integers:\n",
    "(3*4)+5"
   ]
  },
  {
   "cell_type": "code",
   "execution_count": 12,
   "id": "fbf2f9bd-5c1c-4fc5-b6bb-4a5a08c257cf",
   "metadata": {},
   "outputs": [
    {
     "name": "stdin",
     "output_type": "stream",
     "text": [
      "minutes:  200\n"
     ]
    },
    {
     "name": "stdout",
     "output_type": "stream",
     "text": [
      "= 3.3333333333333335 hours\n"
     ]
    }
   ],
   "source": [
    "# This will convert minutes to hours by dividing by 60:\n",
    "Minutes = int(input(\"minutes: \"))\n",
    "Hours = Minutes / 60\n",
    "print(f\"= {Hours} hours\")"
   ]
  },
  {
   "cell_type": "markdown",
   "id": "74e8d0f2-f1f8-4d27-aef7-bd0d726b8483",
   "metadata": {},
   "source": [
    "## Author\n",
    "Raphael"
   ]
  },
  {
   "cell_type": "code",
   "execution_count": null,
   "id": "8be5c04b-9964-429d-8b25-cb1af81b0054",
   "metadata": {},
   "outputs": [],
   "source": []
  }
 ],
 "metadata": {
  "kernelspec": {
   "display_name": "Python 3 (ipykernel)",
   "language": "python",
   "name": "python3"
  },
  "language_info": {
   "codemirror_mode": {
    "name": "ipython",
    "version": 3
   },
   "file_extension": ".py",
   "mimetype": "text/x-python",
   "name": "python",
   "nbconvert_exporter": "python",
   "pygments_lexer": "ipython3",
   "version": "3.12.5"
  }
 },
 "nbformat": 4,
 "nbformat_minor": 5
}
